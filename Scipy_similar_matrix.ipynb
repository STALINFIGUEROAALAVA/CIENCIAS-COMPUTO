{
  "nbformat": 4,
  "nbformat_minor": 0,
  "metadata": {
    "colab": {
      "provenance": [],
      "authorship_tag": "ABX9TyPRySlafCWTkiIaWFVtxDGx",
      "include_colab_link": true
    },
    "kernelspec": {
      "name": "python3",
      "display_name": "Python 3"
    },
    "language_info": {
      "name": "python"
    }
  },
  "cells": [
    {
      "cell_type": "markdown",
      "metadata": {
        "id": "view-in-github",
        "colab_type": "text"
      },
      "source": [
        "<a href=\"https://colab.research.google.com/github/STALINFIGUEROAALAVA/CIENCIAS-COMPUTO/blob/main/Scipy_similar_matrix.ipynb\" target=\"_parent\"><img src=\"https://colab.research.google.com/assets/colab-badge.svg\" alt=\"Open In Colab\"/></a>"
      ]
    },
    {
      "cell_type": "code",
      "execution_count": null,
      "metadata": {
        "colab": {
          "base_uri": "https://localhost:8080/"
        },
        "id": "7zPCIcyJL60P",
        "outputId": "6d62cc03-5199-4675-b7c8-a4b067f39927"
      },
      "outputs": [
        {
          "output_type": "stream",
          "name": "stdout",
          "text": [
            "Collecting sparse_dot_topn\n",
            "  Downloading sparse_dot_topn-0.3.5-cp310-cp310-manylinux_2_17_x86_64.manylinux2014_x86_64.whl (2.3 MB)\n",
            "\u001b[2K     \u001b[90m━━━━━━━━━━━━━━━━━━━━━━━━━━━━━━━━━━━━━━━━\u001b[0m \u001b[32m2.3/2.3 MB\u001b[0m \u001b[31m9.8 MB/s\u001b[0m eta \u001b[36m0:00:00\u001b[0m\n",
            "\u001b[?25hRequirement already satisfied: numpy>=1.14.5 in /usr/local/lib/python3.10/dist-packages (from sparse_dot_topn) (1.22.4)\n",
            "Requirement already satisfied: scipy>=1.2.3 in /usr/local/lib/python3.10/dist-packages (from sparse_dot_topn) (1.10.1)\n",
            "Installing collected packages: sparse_dot_topn\n",
            "Successfully installed sparse_dot_topn-0.3.5\n"
          ]
        }
      ],
      "source": [
        "pip install sparse_dot_topn"
      ]
    },
    {
      "cell_type": "code",
      "source": [
        "import numpy as np\n",
        "from scipy.sparse import csr_matrix\n",
        "from scipy.sparse import rand\n",
        "from sparse_dot_topn import awesome_cossim_topn\n",
        "\n",
        "N = 10\n",
        "a = rand(100, 1000000, density=0.005, format='csr')\n",
        "b = rand(1000000, 200, density=0.005, format='csr')\n",
        "\n",
        "# Default precision type is np.float64, but you can down cast to have a small memory footprint and faster execution\n",
        "# Remark : These are the only 2 types supported now, since we assume that float16 will be difficult to implement and will be slower, because C doesn't support a 16-bit float type on most PCs\n",
        "a = a.astype(np.float32)\n",
        "b = b.astype(np.float32)\n",
        "\n",
        "# Use standard implementation\n",
        "c = awesome_cossim_topn(a, b, N, 0.01)\n",
        "\n",
        "# Use parallel implementation with 4 threads\n",
        "d = awesome_cossim_topn(a, b, N, 0.01, use_threads=True, n_jobs=4)\n",
        "\n",
        "# Use standard implementation with 4 threads and with the computation of best_ntop: the value of ntop needed to capture all results above lower_bound\n",
        "d, best_ntop = awesome_cossim_topn(a, b, N, 0.01, use_threads=True, n_jobs=4, return_best_ntop=True)"
      ],
      "metadata": {
        "id": "YwwbtLeaMCRO"
      },
      "execution_count": null,
      "outputs": []
    },
    {
      "cell_type": "code",
      "source": [],
      "metadata": {
        "id": "pL9LL0rYMC7b"
      },
      "execution_count": null,
      "outputs": []
    }
  ]
}